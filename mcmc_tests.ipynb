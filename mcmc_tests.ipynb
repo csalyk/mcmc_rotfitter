{
 "cells": [
  {
   "cell_type": "code",
   "execution_count": 47,
   "metadata": {},
   "outputs": [
    {
     "name": "stdout",
     "output_type": "stream",
     "text": [
      "Populating the interactive namespace from numpy and matplotlib\n"
     ]
    },
    {
     "name": "stderr",
     "output_type": "stream",
     "text": [
      "/Users/csalyk/anaconda/lib/python3.5/site-packages/IPython/core/magics/pylab.py:160: UserWarning: pylab import has clobbered these variables: ['amin', 'amax']\n",
      "`%matplotlib` prevents importing * from pylab and numpy\n",
      "  \"\\n`%matplotlib` prevents importing * from pylab and numpy\"\n"
     ]
    }
   ],
   "source": [
    "%pylab inline\n",
    "import emcee\n",
    "\n",
    "import os\n",
    "import sys\n",
    "from __future__ import print_function, division\n",
    "import corner\n",
    "from astropy.constants import au,h,pc,c\n",
    "from hitranmaster import hitran\n",
    "from cvs.cvsutils import wn_to_k\n",
    "import json\n",
    "import glob\n",
    "import pickle\n",
    "import pdb as pdb\n",
    "from slabspec import make_spec\n",
    "from cvs.cvsmodels import linespec_co"
   ]
  },
  {
   "cell_type": "markdown",
   "metadata": {},
   "source": [
    "Goal of this notebook is to try running MCMC to find Temperature, Column Density and Emitting Area for a dataset, using an LTE model.\n",
    "\n",
    "Steps:\n",
    "\n",
    "-Try running a simple MCMC example - done!\n",
    "\n",
    "-Try running MCMC on synthetic data with an optically thin model - done!\n",
    "\n",
    "-Try running MCMC on real data with an optically thin model - done!\n",
    "\n",
    "-Try running MCMC with an optically thick model"
   ]
  },
  {
   "cell_type": "markdown",
   "metadata": {},
   "source": [
    "## Example model to use as template for my own models"
   ]
  },
  {
   "cell_type": "code",
   "execution_count": 108,
   "metadata": {},
   "outputs": [],
   "source": [
    "#Content of createdata.py\n",
    "\"\"\"                                                                                           \n",
    "Set up a model and data                                                                        \n",
    "\"\"\"\n",
    "# set the true values of the model parameters for creating the data                           \n",
    "m = 3.5 # gradient of the line                                                                \n",
    "c = 1.2 # y-intercept of the line                                                             \n",
    "\n",
    "# set the \"predictor variable\"/abscissa                                                       \n",
    "M = 100\n",
    "xmin = 0.\n",
    "xmax = 10.\n",
    "stepsize = (xmax-xmin)/M\n",
    "x = np.arange(xmin, xmax, stepsize)\n",
    "\n",
    "# define the model function                                                                   \n",
    "def straight_line(x, m, c):\n",
    "    \"\"\"                                                                                       \n",
    "    A straight line model: y = m*x + c                                                        \n",
    "                                                                                              \n",
    "    Args:                                                                                     \n",
    "        x (list): a set of abscissa points at which the model is defined                      \n",
    "        m (float): the gradient of the line                                                   \n",
    "        c (float): the y-intercept of the line                                                \n",
    "    \"\"\"\n",
    "\n",
    "    return m*x + c\n",
    "\n",
    "# create the data - the model plus Gaussian noise                                             \n",
    "sigma = 0.5 # standard deviation of the noise                                                 \n",
    "data = straight_line(x, m, c) + sigma*np.random.randn(M)"
   ]
  },
  {
   "cell_type": "code",
   "execution_count": 109,
   "metadata": {},
   "outputs": [],
   "source": [
    "#Define prior, likelihood, posterior\n",
    "\"\"\"                                                                                           \n",
    "Example of running emcee to fit the parameters of a straight line.                            \n",
    "\"\"\"\n",
    "#Define log of posterior. Posterior is prior x likelihood, \n",
    "#so log posterior is log prior + log likelihood\n",
    "def logposterior(theta, data, sigma, x):\n",
    "    \"\"\"                                                                                       \n",
    "    The natural logarithm of the joint posterior.                                             \n",
    "                                                                                              \n",
    "    Args:                                                                                     \n",
    "        theta (tuple): a sample containing individual parameter values                        \n",
    "        data (list): the set of data/observations                                             \n",
    "        sigma (float): the standard deviation of the data points                              \n",
    "        x (list): the abscissa values at which the data/model is defined                      \n",
    "    \"\"\"\n",
    "\n",
    "    lp = logprior(theta) # get the prior                                                      \n",
    "\n",
    "    # if the prior is not finite return a probability of zero (log probability of -inf)       \n",
    "    if not np.isfinite(lp):\n",
    "        return -np.inf\n",
    "\n",
    "    # return the likeihood times the prior (log likelihood plus the log prior)   \n",
    "    return lp + loglikelihood(theta, data, sigma, x)\n",
    "\n",
    "#Define log of likelihood\n",
    "#What is the probability of getting a particular dataset given model parameters\n",
    "#and noise level?\n",
    "def loglikelihood(theta, data, sigma, x):\n",
    "    \"\"\"                                                                                       \n",
    "    The natural logarithm of the joint likelihood.                                            \n",
    "                                                                                              \n",
    "    Args:                                                                                     \n",
    "        theta (tuple): a sample containing individual parameter values                        \n",
    "        data (list): the set of data/observations                                             \n",
    "        sigma (float): the standard deviation of the data points                              \n",
    "        x (list): the abscissa values at which the data/model is defined                                       \n",
    "    \"\"\"\n",
    "\n",
    "    # unpack the model parameters from the tuple                                              \n",
    "    m, c = theta\n",
    "\n",
    "    # evaluate the model (assumes that the straight_line model is defined as above)           \n",
    "    md = straight_line(x, m, c)\n",
    "\n",
    "    # return the log likelihood                                                               \n",
    "    return -0.5*np.sum(((md - data)/sigma)**2)\n",
    "\n",
    "#Define log of prior function.  What are the allowed values of the parameters?\n",
    "#This example assumes a uniform prior for constant, going from -10 to 10\n",
    "#This example assumes a Gaussian prior for slope, \n",
    "\n",
    "def logprior(theta):\n",
    "    \"\"\"                                                                                       \n",
    "    The natural logarithm of the prior probability.                                           \n",
    "                                                                                              \n",
    "    Args:                                                                                     \n",
    "        theta (tuple): a sample containing individual parameter values                                                         \n",
    "    \"\"\"\n",
    "\n",
    "    lp = 0.\n",
    "\n",
    "    # unpack the model parameters from the tuple                                              \n",
    "    m, c = theta\n",
    "\n",
    "    # uniform prior on c                                                                      \n",
    "    cmin = -10. # lower range of prior                                                        \n",
    "    cmax = 10.  # upper range of prior                                                        \n",
    "\n",
    "    # set prior to 1 (log prior to 0) if in the range and zero (-inf) outside the range       \n",
    "    lp = 0. if cmin < c < cmax else -np.inf\n",
    "\n",
    "    # Gaussian prior on m                                                                     \n",
    "    mmu = 0.     # mean of the Gaussian prior                                                 \n",
    "    msigma = 10. # standard deviation of the Gaussian prior                                   \n",
    "    lp -= 0.5*((m - mmu)/msigma)**2   #Add log prior due to mean to lp due to constant.\n",
    "\n",
    "    return lp"
   ]
  },
  {
   "cell_type": "code",
   "execution_count": 110,
   "metadata": {},
   "outputs": [],
   "source": [
    "Nens = 100   # number of ensemble points                                                         \n",
    "\n",
    "mmu = 0.     # mean of the Gaussian prior                                                        \n",
    "msigma = 10. # standard deviation of the Gaussian prior                                          \n",
    "\n",
    "mini = np.random.normal(mmu, msigma, Nens) # initial m points                                    \n",
    "\n",
    "cmin = -10.  # lower range of prior                                                              \n",
    "cmax = 10.   # upper range of prior                                                              \n",
    "\n",
    "cini = np.random.uniform(cmin, cmax, Nens) # initial c points                                    \n",
    "\n",
    "inisamples = np.array([mini, cini]).T # initial samples                                          \n",
    "#100 x 2  (Nens x Nparameters)\n",
    "\n",
    "ndims = inisamples.shape[1] # number of parameters/dimensions                                    \n",
    "\n",
    "Nburnin = 500   # number of burn-in samples                                                      \n",
    "Nsamples = 500  # number of final posterior samples                                              \n",
    "\n",
    "# set additional args for the posterior (the data, the noise std. dev., and the abscissa)        \n",
    "argslist = (data, sigma, x)\n",
    "\n",
    "# set up the sampler                                                                             \n",
    "sampler = emcee.EnsembleSampler(Nens, ndims, logposterior, args=argslist)\n",
    "\n",
    "# pass the initial samples and total number of samples required                                  \n",
    "sampler.run_mcmc(inisamples, Nsamples+Nburnin);"
   ]
  },
  {
   "cell_type": "code",
   "execution_count": 114,
   "metadata": {},
   "outputs": [
    {
     "name": "stdout",
     "output_type": "stream",
     "text": [
      "Number of posterior samples is 50000\n"
     ]
    },
    {
     "data": {
      "image/png": "[encoded data removed]",
      "text/plain": [
       "<Figure size 396x396 with 4 Axes>"
      ]
     },
     "metadata": {
      "needs_background": "light"
     },
     "output_type": "display_data"
    }
   ],
   "source": [
    "postsamples = sampler.chain[:, Nburnin:, :].reshape((-1, ndims))\n",
    "\n",
    "print('Number of posterior samples is {}'.format(postsamples.shape[0]))\n",
    "\n",
    "fig = corner.corner(postsamples, labels=[r\"$m$\", r\"$c$\"], truths=[m, c])"
   ]
  },
  {
   "cell_type": "markdown",
   "metadata": {},
   "source": [
    "## Optically thin rotation diagram model\n",
    "## Try first with synthetic dataset"
   ]
  },
  {
   "cell_type": "code",
   "execution_count": 33,
   "metadata": {},
   "outputs": [
    {
     "name": "stdout",
     "output_type": "stream",
     "text": [
      "Reading \"/Users/csalyk/mypy/hitranmaster/par/05_hit12.par\" ...\n"
     ]
    }
   ],
   "source": [
    "#Get 12CO HITRAN data\n",
    "hitran_data, __ =hitran.extract_data('CO', 4.64,5.1, eupmax=10000, aupmin=0.005, isot=1)\n",
    "w0=np.array(1e4/hitran_data['linecenter'])\n",
    "vup =np.array([np.int(vp) for vp in hitran_data['Vp']])\n",
    "vlow =np.array([np.int(vpp) for vpp in hitran_data['Vpp']])\n",
    "aup=np.array(hitran_data['Acoeff'])\n",
    "gup=np.array(hitran_data['gp'])\n",
    "tup=np.array(wn_to_k((hitran_data['Epp']+hitran_data['linecenter'])))\n",
    "\n",
    "vbool=((vup==1) & (vlow==0))\n",
    "w0=w0[vbool]\n",
    "vup=vup[vbool]\n",
    "vlow=vlow[vbool]\n",
    "aup=aup[vbool]\n",
    "gup=gup[vbool]\n",
    "tup=tup[vbool]\n",
    "\n",
    "w0=np.flip(w0,0)\n",
    "vup=np.flip(vup,0)\n",
    "vlow=np.flip(vlow,0)\n",
    "aup=np.flip(aup,0)\n",
    "gup=np.flip(gup,0)\n",
    "tup=np.flip(tup,0)"
   ]
  },
  {
   "cell_type": "code",
   "execution_count": 282,
   "metadata": {},
   "outputs": [],
   "source": [
    "#Content of createdata.py\n",
    "\"\"\"                                                                                           \n",
    "Set up a model and data                                                                        \n",
    "\"\"\"\n",
    "# set the true values of the model parameters for creating the test dataset                           \n",
    "temp = 800 # Kelvin                                                                \n",
    "logntot= 45. #Number of molecules\n",
    "\n",
    "# set the \"predictor variable\"       \n",
    "linenums=np.arange(np.size(tup))\n",
    "\n",
    "# define the model function                                                                   \n",
    "def line_flux(linenum, logntot, temp, dist=140.):\n",
    "    linenum=linenum.astype(int)\n",
    "    from astropy.constants import h,au,pc,c\n",
    "    \"\"\"                                                                                       \n",
    "    An optically thin LTE model                                                        \n",
    "                                                                                              \n",
    "    Args:                                                                                     \n",
    "        linenum (list): a set of abscissa points at which the model is defined                      \n",
    "        logntot (float): log of the number of molecules                                                  \n",
    "        temp (float): the temperature                                               \n",
    "    \"\"\"\n",
    "\n",
    "    w0=np.array([4.64124219, 4.64931172, 4.65748592, 4.6741507,  4.68264278, 4.69124215, \n",
    "                 4.69994958, 4.70876567,\n",
    "                 4.71769101, 4.72672666, 4.73587325, 4.7451314,  4.754502,   4.76398572,\n",
    "                 4.77358345, 4.78329589, 4.79312421, 4.80306889, 4.81313091, 4.82331102,\n",
    "                 4.83361045, 4.84402975, 4.85456995, 4.86523233, 4.87601727, 4.88692606,\n",
    "                 4.89795982, 4.90911919, 4.92040555, 4.93181981, 4.9433629,  4.95503602,\n",
    "                 4.96684038, 4.97877697, 4.99084704, 5.00305161, 5.01539174, 5.02786897,\n",
    "                 5.04048441, 5.05323941, 5.06613484, 5.07917236, 5.09235313])\n",
    "    gup=np.array([7.,  5.,  3. , 1. , 3. , 5. , 7. , 9. ,11. ,13., 15., 17., 19., 21., 23. ,\n",
    "                  25., 27.,\n",
    "                  29., 31., 33., 35. ,37. ,39. ,41., 43., 45. ,47., 49., 51., 53., 55., 57.,\n",
    "                  59. ,61., 63., 65. ,67., 69., 71. ,73. ,75., 77., 79.])\n",
    "    tup=np.array([3116.57965271, 3100.13500307, 3089.17166351, 3083.68992179, 3089.17180739, \n",
    "                  3100.13514695, 3116.57950884,\n",
    "                  3138.5046053,  3165.90928531, 3198.79254173, 3237.15322354, 3280.9896042,\n",
    "                  3330.30024494, 3385.08327534, 3445.33639336, 3511.05744084, 3582.24354022,\n",
    "                  3658.89238946, 3741.00067937, 3828.56567626, 3921.58349546, 4020.05082775,\n",
    "                  4123.96393233, 4233.31849287, 4348.11076853, 4468.33586748, 4593.98932951,\n",
    "                  4725.06640666, 4861.56191931, 5003.47054401, 5150.78710115, 5303.50554786,\n",
    "                  5461.62012903, 5625.12480181, 5794.01309169, 5968.27852418, 6147.91462477,\n",
    "                  6332.91419958, 6523.27005472, 6718.97485243, 6920.02139882, 7126.40134899,\n",
    "                  7338.10722129])\n",
    "    aup=np.array([15.17, 14.08, 11.67, 34.61, 22.95, 20.54, 19.45, 18.8,  18.35, 18.01, 17.74, \n",
    "                  17.5,  17.3,\n",
    "                  17.11, 16.94, 16.78, 16.63, 16.48, 16.35, 16.21, 16.08, 15.96, 15.84, 15.71,\n",
    "                  15.59, 15.47, 15.36, 15.24, 15.13, 15.02, 14.9,  14.79, 14.68, 14.57, 14.46,\n",
    "                  14.35, 14.25, 14.14, 14.03, 13.93, 13.82, 13.72, 13.61])           \n",
    "    nu=c.value/(w0*1e-6)\n",
    "    ntot=10.**(logntot)            \n",
    "    q=-3.5179e+02 + 2.7793*temp -3.6737e-03*(temp**2.)+4.0901e-06*(temp**3.)\n",
    "    \n",
    "    lineflux=ntot*gup[linenum]*h.value*nu[linenum]*aup[linenum]/(q*4*np.pi*(dist*pc.value)**2)*np.exp(-tup[linenum]/temp)\n",
    "#mks =W/m^2 =  10^7 erg/m^2 = 10^3 erg/cm^2\n",
    "    return lineflux\n",
    "\n",
    "# create the data - the model plus Gaussian noise                                             \n",
    "sigma=5e-17  #Constant noise level, though may not be realistic.\n",
    "data=line_flux(linenums,logntot,temp)+sigma*np.random.randn(np.size(linenums))                 "
   ]
  },
  {
   "cell_type": "code",
   "execution_count": 283,
   "metadata": {},
   "outputs": [],
   "source": [
    "#Define prior, likelihood, posterior\n",
    "#Define log of posterior. Posterior is prior x likelihood, \n",
    "#so log posterior is log prior + log likelihood\n",
    "def logposterior(theta, data, sigma, linenum):\n",
    "    \"\"\"                                                                                       \n",
    "    The natural logarithm of the joint posterior.                                             \n",
    "                                                                                              \n",
    "    Args:                                                                                     \n",
    "        theta (tuple): a sample containing individual parameter values                        \n",
    "        data (list): the set of data/observations                                             \n",
    "        sigma (float): the standard deviation of the data points                              \n",
    "        x (list): the abscissa values at which the data/model is defined                      \n",
    "    \"\"\"\n",
    "\n",
    "    lp = logprior(theta) # get the prior                                                      \n",
    "\n",
    "    # if the prior is not finite return a probability of zero (log probability of -inf)       \n",
    "    if not np.isfinite(lp):\n",
    "        return -np.inf\n",
    "\n",
    "    # return the likeihood times the prior (log likelihood plus the log prior)   \n",
    "    return lp + loglikelihood(theta, data, sigma, linenum)\n",
    "\n",
    "\n",
    "def logprior(theta):\n",
    "    \"\"\"                                                                                       \n",
    "    The natural logarithm of the prior probability.                                           \n",
    "                                                                                              \n",
    "    Args:                                                                                     \n",
    "        theta (tuple): a sample containing individual parameter values                                                         \n",
    "    \"\"\"\n",
    "\n",
    "    lp = 0.\n",
    "\n",
    "    # unpack the model parameters from the tuple                                              \n",
    "    logntot, temp = theta\n",
    "\n",
    "    # uniform prior on log of ntot                                                                      \n",
    "    lognmin = 44.  # lower range of prior                                                        \n",
    "    lognmax = 47.  # upper range of prior                                                        \n",
    "\n",
    "    # set prior to 1 (log prior to 0) if in the range and zero (log prior to -inf)\n",
    "    # outside the range       \n",
    "    lp = 0. if lognmin < logntot < lognmax else -np.inf\n",
    "\n",
    "    # Gaussian prior on temp                                                                   \n",
    "    tmu = 800.     # mean of the Gaussian prior                                                 \n",
    "    tsigma = 200. # standard deviation of the Gaussian prior                                   \n",
    "    lp -= 0.5*((temp - tmu)/tsigma)**2   #Add log prior due to mean to lp due to constant.\n",
    "\n",
    "    # set prior to zero (log prior to -inf) if T<=0       \n",
    "    if (temp <= 0):\n",
    "        lp = -np.inf    \n",
    "    \n",
    "    return lp\n",
    "\n",
    "def loglikelihood(theta, data, sigma, linenum):\n",
    "    \"\"\"                                                                                       \n",
    "    The natural logarithm of the joint likelihood.                                            \n",
    "                                                                                              \n",
    "    Args:                                                                                     \n",
    "        theta (tuple): a sample containing individual parameter values                        \n",
    "        data (list): the set of data/observations                                             \n",
    "        sigma (float): the standard deviation of the data points                              \n",
    "        x (list): the abscissa values at which the data/model is defined                                       \n",
    "    \"\"\"\n",
    "\n",
    "    # unpack the model parameters from the tuple                                              \n",
    "    logntot, temp = theta\n",
    "    # evaluate the model (assumes that the model is defined above)           \n",
    "    md = line_flux(linenum, logntot, temp, dist=140.)\n",
    "    \n",
    "    # return the log likelihood  \n",
    "    return -0.5*np.sum(((md - data)/sigma)**2)"
   ]
  },
  {
   "cell_type": "code",
   "execution_count": 284,
   "metadata": {},
   "outputs": [],
   "source": [
    "Nens = 100   # number of ensemble points                                                         \n",
    "\n",
    "lognmin = 44 # lower range of prior                                                        \n",
    "lognmax = 47.  # upper range of prior                                                        \n",
    "\n",
    "lognini = np.random.uniform(lognmin, lognmax, Nens) # initial logn points                                    \n",
    "\n",
    "tmu = 800.     # mean of the Gaussian prior                                                 \n",
    "tsigma = 200. # standard deviation of the Gaussian prior                                   \n",
    "\n",
    "tini = np.random.normal(tmu, tsigma, Nens) # initial t points                                    \n",
    "                                                           \n",
    "inisamples = np.array([lognini, tini]).T # initial samples                                          \n",
    "#100 x 2  (Nens x Nparameters)\n",
    "\n",
    "ndims = inisamples.shape[1] # number of parameters/dimensions                                    \n",
    "\n",
    "Nburnin = 500   # number of burn-in samples                                                      \n",
    "Nsamples = 1000  # number of final posterior samples                                              \n",
    "#5000 takes about 1 minute\n",
    "\n",
    "# set additional args for the posterior (the data, the noise std. dev., and the abscissa)        \n",
    "argslist = (data, sigma, linenums)\n",
    "\n",
    "# set up the sampler                                                                             \n",
    "sampler = emcee.EnsembleSampler(Nens, ndims, logposterior, args=argslist)\n",
    "\n",
    "# pass the initial samples and total number of samples required                                  \n",
    "sampler.run_mcmc(inisamples, Nsamples+Nburnin);"
   ]
  },
  {
   "cell_type": "code",
   "execution_count": 1,
   "metadata": {},
   "outputs": [
    {
     "ename": "NameError",
     "evalue": "name 'sampler' is not defined",
     "output_type": "error",
     "traceback": [
      "\u001b[0;31m---------------------------------------------------------------------------\u001b[0m",
      "\u001b[0;31mNameError\u001b[0m                                 Traceback (most recent call last)",
      "\u001b[0;32m<ipython-input-1-4710af8d3a75>\u001b[0m in \u001b[0;36m<module>\u001b[0;34m()\u001b[0m\n\u001b[0;32m----> 1\u001b[0;31m \u001b[0mpostsamples\u001b[0m \u001b[0;34m=\u001b[0m \u001b[0msampler\u001b[0m\u001b[0;34m.\u001b[0m\u001b[0mchain\u001b[0m\u001b[0;34m[\u001b[0m\u001b[0;34m:\u001b[0m\u001b[0;34m,\u001b[0m \u001b[0mNburnin\u001b[0m\u001b[0;34m:\u001b[0m\u001b[0;34m,\u001b[0m \u001b[0;34m:\u001b[0m\u001b[0;34m]\u001b[0m\u001b[0;34m.\u001b[0m\u001b[0mreshape\u001b[0m\u001b[0;34m(\u001b[0m\u001b[0;34m(\u001b[0m\u001b[0;34m-\u001b[0m\u001b[0;36m1\u001b[0m\u001b[0;34m,\u001b[0m \u001b[0mndims\u001b[0m\u001b[0;34m)\u001b[0m\u001b[0;34m)\u001b[0m\u001b[0;34m\u001b[0m\u001b[0m\n\u001b[0m\u001b[1;32m      2\u001b[0m \u001b[0;34m\u001b[0m\u001b[0m\n\u001b[1;32m      3\u001b[0m \u001b[0mprint\u001b[0m\u001b[0;34m(\u001b[0m\u001b[0;34m'Number of posterior samples is {}'\u001b[0m\u001b[0;34m.\u001b[0m\u001b[0mformat\u001b[0m\u001b[0;34m(\u001b[0m\u001b[0mpostsamples\u001b[0m\u001b[0;34m.\u001b[0m\u001b[0mshape\u001b[0m\u001b[0;34m[\u001b[0m\u001b[0;36m0\u001b[0m\u001b[0;34m]\u001b[0m\u001b[0;34m)\u001b[0m\u001b[0;34m)\u001b[0m\u001b[0;34m\u001b[0m\u001b[0m\n\u001b[1;32m      4\u001b[0m \u001b[0;34m\u001b[0m\u001b[0m\n\u001b[1;32m      5\u001b[0m fig = corner.corner(postsamples, labels=[ r\"$\\log(n_\\mathrm{tot})$\",r\"Temperature [K]\"], \n",
      "\u001b[0;31mNameError\u001b[0m: name 'sampler' is not defined"
     ]
    }
   ],
   "source": [
    "postsamples = sampler.chain[:, Nburnin:, :].reshape((-1, ndims))\n",
    "\n",
    "print('Number of posterior samples is {}'.format(postsamples.shape[0]))\n",
    "\n",
    "fig = corner.corner(postsamples, labels=[ r\"$\\log(n_\\mathrm{tot})$\",r\"Temperature [K]\"], \n",
    "                    truths=[logntot,temp])\n",
    "axes = np.array(fig.axes).reshape((2, 2))\n",
    "ax = axes[1,1]\n",
    "ax.axvline(830,color=\"g\",linestyle='--')\n",
    "ax = axes[0,0]\n",
    "ax.axvline(45.0,color=\"g\",linestyle='--')\n",
    "fig.save_fig('corner_plot.png')"
   ]
  },
  {
   "cell_type": "markdown",
   "metadata": {},
   "source": [
    "## Make rotation diagram of results"
   ]
  },
  {
   "cell_type": "code",
   "execution_count": 292,
   "metadata": {},
   "outputs": [
    {
     "name": "stderr",
     "output_type": "stream",
     "text": [
      "/Users/csalyk/anaconda/lib/python3.5/site-packages/ipykernel_launcher.py:2: RuntimeWarning: invalid value encountered in log\n",
      "  \n"
     ]
    },
    {
     "data": {
      "text/plain": [
       "[<matplotlib.lines.Line2D at 0x1c2978e898>]"
      ]
     },
     "execution_count": 292,
     "metadata": {},
     "output_type": "execute_result"
    },
    {
     "data": {
      "image/png": "[encoded data removed]",
      "text/plain": [
       "<Figure size 432x360 with 1 Axes>"
      ]
     },
     "metadata": {
      "needs_background": "light"
     },
     "output_type": "display_data"
    }
   ],
   "source": [
    "wn=1.e6/w0 #m-1\n",
    "yrot_data=np.log(data/(wn*gup*aup))\n",
    "fig=plt.figure(figsize=(6,5))\n",
    "ax1=fig.add_subplot(111)\n",
    "ax1.plot(tup,yrot_data,'ro')\n",
    "\n",
    "flux_model=line_flux(linenums, 45., 800,dist=140.)\n",
    "yrot_model=np.log(flux_model/(wn*gup*aup))\n",
    "ax1.plot(tup,yrot_model)"
   ]
  },
  {
   "cell_type": "markdown",
   "metadata": {},
   "source": [
    "## Try with real dataset"
   ]
  },
  {
   "cell_type": "code",
   "execution_count": 342,
   "metadata": {},
   "outputs": [],
   "source": [
    "data_dir='/Users/csalyk/Dropbox/LIME/Disk_data/'\n",
    "pfiles=glob.glob(data_dir+'*.p')\n",
    "out=pickle.load(open(pfiles[0],'rb'))\n",
    "\n",
    "linenum_data=[]\n",
    "for myw0 in out['w0']:\n",
    "    w=np.where(np.abs(w0-myw0) == np.min(np.abs(w0-myw0)))\n",
    "    linenum_data.append(w[0][0])\n",
    "linenum_data=np.array(linenum_data)\n",
    "flux_data=np.array(out['flux'])*1e-3  #Conversion of cgs to mks\n",
    "sigma=5.e-18\n",
    "tup_data=out['tup']\n",
    "wn_data=out['wn']\n",
    "gup_data=out['gup']\n",
    "aup_data=out['aup']\n",
    "yrot_data=np.log(flux_data/(wn_data*gup_data*aup_data))"
   ]
  },
  {
   "cell_type": "code",
   "execution_count": 328,
   "metadata": {},
   "outputs": [],
   "source": [
    "Nens = 100   # number of ensemble points                                                         \n",
    "\n",
    "lognmin = 44 # lower range of prior                                                        \n",
    "lognmax = 47.  # upper range of prior                                                        \n",
    "\n",
    "lognini = np.random.uniform(lognmin, lognmax, Nens) # initial logn points                                    \n",
    "\n",
    "tmu = 800.     # mean of the Gaussian prior                                                 \n",
    "tsigma = 200. # standard deviation of the Gaussian prior                                   \n",
    "\n",
    "tini = np.random.normal(tmu, tsigma, Nens) # initial t points                                    \n",
    "                                                           \n",
    "inisamples = np.array([lognini, tini]).T # initial samples                                          \n",
    "#100 x 2  (Nens x Nparameters)\n",
    "\n",
    "ndims = inisamples.shape[1] # number of parameters/dimensions                                    \n",
    "\n",
    "Nburnin = 500   # number of burn-in samples                                                      \n",
    "Nsamples = 1000  # number of final posterior samples                                              \n",
    "#5000 takes about 1 minute\n",
    "\n",
    "# set additional args for the posterior (the data, the noise std. dev., and the abscissa)        \n",
    "argslist = (flux_data, sigma, linenum_data)\n",
    "\n",
    "# set up the sampler                                                                             \n",
    "sampler = emcee.EnsembleSampler(Nens, ndims, logposterior, args=argslist)\n",
    "\n",
    "# pass the initial samples and total number of samples required                                  \n",
    "sampler.run_mcmc(inisamples, Nsamples+Nburnin);"
   ]
  },
  {
   "cell_type": "code",
   "execution_count": 335,
   "metadata": {},
   "outputs": [
    {
     "name": "stderr",
     "output_type": "stream",
     "text": [
      "WARNING:root:Too few points to create valid contours\n"
     ]
    },
    {
     "name": "stdout",
     "output_type": "stream",
     "text": [
      "Number of posterior samples is 100000\n"
     ]
    },
    {
     "data": {
      "image/png": "[encoded data removed]",
      "text/plain": [
       "<Figure size 396x396 with 4 Axes>"
      ]
     },
     "metadata": {
      "needs_background": "light"
     },
     "output_type": "display_data"
    }
   ],
   "source": [
    "postsamples = sampler.chain[:, Nburnin:, :].reshape((-1, ndims))\n",
    "\n",
    "print('Number of posterior samples is {}'.format(postsamples.shape[0]))\n",
    "\n",
    "fig = corner.corner(postsamples, labels=[ r\"$\\log(n_\\mathrm{tot})$\",r\"Temperature [K]\"], \n",
    "                    truths=[44.4,1170])"
   ]
  },
  {
   "cell_type": "code",
   "execution_count": 343,
   "metadata": {},
   "outputs": [
    {
     "data": {
      "text/plain": [
       "[<matplotlib.lines.Line2D at 0x1c3116a080>]"
      ]
     },
     "execution_count": 343,
     "metadata": {},
     "output_type": "execute_result"
    },
    {
     "data": {
      "image/png": "[encoded data removed]",
      "text/plain": [
       "<Figure size 432x360 with 1 Axes>"
      ]
     },
     "metadata": {
      "needs_background": "light"
     },
     "output_type": "display_data"
    }
   ],
   "source": [
    "flux_model=line_flux(linenum_data, 44.4, 1170,dist=140.)\n",
    "yrot_model=np.log(flux_model/(wn_data*gup_data*aup_data))\n",
    "\n",
    "fig=plt.figure(figsize=(6,5))\n",
    "ax1=fig.add_subplot(111)\n",
    "ax1.plot(tup_data,yrot_data,'ro')\n",
    "ax1.plot(tup_data,yrot_model)"
   ]
  },
  {
   "cell_type": "markdown",
   "metadata": {},
   "source": [
    "## Tests of optically thick model"
   ]
  },
  {
   "cell_type": "code",
   "execution_count": 66,
   "metadata": {},
   "outputs": [],
   "source": [
    "#Content of createdata.py\n",
    "\"\"\"                                                                                           \n",
    "Set up a model and data                                                                        \n",
    "\"\"\"\n",
    "# set the true values of the model parameters for creating the test dataset                           \n",
    "temp = 800 # Kelvin                                                                \n",
    "logntot= 20. #column density (m-2)\n",
    "area = np.pi*(1.*1.5e11)**2.  #m^2\n",
    "\n",
    "# set the \"predictor variable\"       \n",
    "linenums=np.arange(43)  #Hardcoded.  Number of lines considered in this model.\n",
    "\n",
    "# define the model function       \n",
    "def line_flux_optthick(linenum, logntot, temp, area, d_pc=140.):\n",
    "    linenum=linenum.astype(int)\n",
    "    from astropy.constants import h,au,pc,c,k_B\n",
    "    \"\"\"                                                                                       \n",
    "    An optically thick LTE model                                                        \n",
    "                                                                                              \n",
    "    Args:                                                                                     \n",
    "        linenum (list): a set of abscissa points at which the model is defined                      \n",
    "        logntot (float): log of the column density                                                  \n",
    "        temp (float): the temperature                                               \n",
    "        area  (float): the emitting area\n",
    "\"\"\"\n",
    "\n",
    "    w0=np.array([4.64124219, 4.64931172, 4.65748592, 4.6741507,  4.68264278, 4.69124215, \n",
    "                 4.69994958, 4.70876567,\n",
    "                 4.71769101, 4.72672666, 4.73587325, 4.7451314,  4.754502,   4.76398572,\n",
    "                 4.77358345, 4.78329589, 4.79312421, 4.80306889, 4.81313091, 4.82331102,\n",
    "                 4.83361045, 4.84402975, 4.85456995, 4.86523233, 4.87601727, 4.88692606,\n",
    "                 4.89795982, 4.90911919, 4.92040555, 4.93181981, 4.9433629,  4.95503602,\n",
    "                 4.96684038, 4.97877697, 4.99084704, 5.00305161, 5.01539174, 5.02786897,\n",
    "                 5.04048441, 5.05323941, 5.06613484, 5.07917236, 5.09235313])\n",
    "    gup=np.array([7.,  5.,  3. , 1. , 3. , 5. , 7. , 9. ,11. ,13., 15., 17., 19., 21., 23. ,\n",
    "                  25., 27.,\n",
    "                  29., 31., 33., 35. ,37. ,39. ,41., 43., 45. ,47., 49., 51., 53., 55., 57.,\n",
    "                  59. ,61., 63., 65. ,67., 69., 71. ,73. ,75., 77., 79.])\n",
    "    tup=np.array([3116.57965271, 3100.13500307, 3089.17166351, 3083.68992179, 3089.17180739, \n",
    "                  3100.13514695, 3116.57950884,\n",
    "                  3138.5046053,  3165.90928531, 3198.79254173, 3237.15322354, 3280.9896042,\n",
    "                  3330.30024494, 3385.08327534, 3445.33639336, 3511.05744084, 3582.24354022,\n",
    "                  3658.89238946, 3741.00067937, 3828.56567626, 3921.58349546, 4020.05082775,\n",
    "                  4123.96393233, 4233.31849287, 4348.11076853, 4468.33586748, 4593.98932951,\n",
    "                  4725.06640666, 4861.56191931, 5003.47054401, 5150.78710115, 5303.50554786,\n",
    "                  5461.62012903, 5625.12480181, 5794.01309169, 5968.27852418, 6147.91462477,\n",
    "                  6332.91419958, 6523.27005472, 6718.97485243, 6920.02139882, 7126.40134899,\n",
    "                  7338.10722129])\n",
    "    aup=np.array([15.17, 14.08, 11.67, 34.61, 22.95, 20.54, 19.45, 18.8,  18.35, 18.01, 17.74, \n",
    "                  17.5,  17.3,\n",
    "                  17.11, 16.94, 16.78, 16.63, 16.48, 16.35, 16.21, 16.08, 15.96, 15.84, 15.71,\n",
    "                  15.59, 15.47, 15.36, 15.24, 15.13, 15.02, 14.9,  14.79, 14.68, 14.57, 14.46,\n",
    "                  14.35, 14.25, 14.14, 14.03, 13.93, 13.82, 13.72, 13.61])           \n",
    "    nu=c.value/(w0*1e-6)  #frequency\n",
    "    wn0=1./(w0*1e-6)  #wavenumber, in m-1\n",
    "    ntot=10.**(logntot)\n",
    "    eup_freq=k_B.value*tup/h.value\n",
    "    elow_freq=eup_freq-nu\n",
    "    tlow=h.value*elow_freq/k_B.value\n",
    "    \n",
    "#Define partition function    \n",
    "    q=0.36288*temp*(1.+np.exp(-3083.7/temp))\n",
    "#Define intrinsic line width and line shape function\n",
    "    mu_co=(28.)*1.66e-27\n",
    "    deltav=np.sqrt(k_B.value*temp/mu_co)   #Not letting user define yet\n",
    "    phia=1./(deltav*np.sqrt(2.0*np.pi))    #Constant of line shape function\n",
    "#Define velocity grid\n",
    "    dvel=1.0e0    #km/s                                                                                                          \n",
    "    nvel=101\n",
    "    vel=(dvel*(np.arange(0,nvel)-50.0))*1.e3     #m/s                                                                     \n",
    "\n",
    "    omega=area/(d_pc*pc.value)**2.\n",
    "#Define parts of flux calculation\n",
    "    afactor=(aup[linenum]*gup[linenum]*ntot*c.value**3.)/(q*8.*np.pi*(nu[linenum])**3.) #mks                                                                        \n",
    "    efactor=(tup[linenum])/temp\n",
    "    nufactor=h.value*nu[linenum]/(k_B.value*temp)  #Start here: This number is too high if temp is low. Fix.\n",
    "    tau1=afactor*np.exp(-1.*efactor)*(np.exp(nufactor)-1.0)*phia    \n",
    "    efactor2=(tup[linenum])/temp\n",
    "    efactor1=(tlow[linenum])/temp\n",
    "    tau0=afactor*(np.exp(-1.*efactor1) - np.exp(-1.*efactor2))*phia  #This versions avoids numerical problems\n",
    "    print(tau1, tau0, tau0-tau1, w0[linenum])\n",
    "    print(tup[linenum],tlow[linenum])\n",
    "    \n",
    "    nlines=np.size(tau0)\n",
    "    lineflux=np.zeros(nlines)\n",
    "    tau=np.zeros([nlines,nvel])\n",
    "    wave=np.zeros([nlines,nvel])\n",
    "    f_arr=np.zeros([nlines,nvel])\n",
    "    for ha,mytau in enumerate(tau0):\n",
    "        for ka, myvel in enumerate(vel):\n",
    "            tau[ha,ka]=tau0[ha]*np.exp(-vel[ka]**2./(2.*deltav**2.))\n",
    "            wave[ha,ka]=1.e6/wn0[ha]*(1+vel[ka]/c.value)\n",
    "        f_arr[ha,:]=(2*h.value*nu[ha]**3.)/((c.value**2.)*np.exp(h.value*c.value*nu[ha]/(c.value*k_B.value*temp))-1.0e0)*(1-np.exp(-tau[ha,:]))*1.e26*omega\n",
    "\n",
    "        lineflux_jykms=np.sum(f_arr[ha,:])*dvel\n",
    "        lineflux[ha]=lineflux_jykms*1e-26*1.*1e5*(1./(w0[ha]*1e-4))  #mks = W/m^2\n",
    "    \n",
    "    return lineflux\n",
    "\n",
    "# create the data - the model plus Gaussian noise  - if using synthetic data                                          \n",
    "sigma=5e-17  #Constant noise level, though may not be realistic.\n",
    "#data=line_flux(linenums,logntot,temp)+sigma*np.random.randn(np.size(linenums))                 "
   ]
  },
  {
   "cell_type": "code",
   "execution_count": 69,
   "metadata": {},
   "outputs": [
    {
     "name": "stdout",
     "output_type": "stream",
     "text": [
      "[1.50664354] [1.50664354] [0.] [4.99084704]\n"
     ]
    }
   ],
   "source": [
    "out=line_flux_optthick(np.array([34]), 22., 600., (1.5e11)**2.)"
   ]
  },
  {
   "cell_type": "code",
   "execution_count": 37,
   "metadata": {},
   "outputs": [],
   "source": [
    "#Define prior, likelihood, posterior\n",
    "#Define log of posterior. Posterior is prior x likelihood, \n",
    "#so log posterior is log prior + log likelihood\n",
    "def logposterior(theta, data, sigma, linenum):\n",
    "    \"\"\"                                                                                       \n",
    "    The natural logarithm of the joint posterior.                                             \n",
    "                                                                                              \n",
    "    Args:                                                                                     \n",
    "        theta (list): a sample containing individual parameter values                        \n",
    "        data (list): the set of data/observations                                             \n",
    "        sigma (float): the standard deviation of the data points                              \n",
    "        x (list): the abscissa values at which the data/model is defined                      \n",
    "    \"\"\"\n",
    "\n",
    "    lp = logprior(theta) # get the prior                                                      \n",
    "\n",
    "    # if the prior is not finite return a probability of zero (log probability of -inf)       \n",
    "    if not np.isfinite(lp):\n",
    "        return -np.inf\n",
    "\n",
    "    # return the likeihood times the prior (log likelihood plus the log prior)   \n",
    "    return lp + loglikelihood(theta, data, sigma, linenum)\n",
    "\n",
    "\n",
    "def logprior(theta):\n",
    "    \"\"\"                                                                                       \n",
    "    The natural logarithm of the prior probability.                                           \n",
    "                                                                                              \n",
    "    Args:                                                                                     \n",
    "        theta (list): a sample containing individual parameter values                                                         \n",
    "    \"\"\"\n",
    "\n",
    "    lp = 0.\n",
    "\n",
    "    # unpack the model parameters from the list                                             \n",
    "    logntot, temp, area = theta\n",
    "#-------------------------    \n",
    "#First parameter: logntot\n",
    "    # uniform prior on log of ntot                                                                      \n",
    "    lognmin = 16.  # lower range of prior                                                        \n",
    "    lognmax = 24.  # upper range of prior                                                        \n",
    "\n",
    "    # set prior to 1 (log prior to 0) if in the range and zero (log prior to -inf)\n",
    "    # outside the range       \n",
    "    lp = 0. if lognmin < logntot < lognmax else -np.inf\n",
    "#-------------------------    \n",
    "#Second parameter: temperature\n",
    "    # Gaussian prior on temp, except if T<=0                                                                   \n",
    "    tmu = 800.     # mean of the Gaussian prior                                                 \n",
    "    tsigma = 200. # standard deviation of the Gaussian prior                                   \n",
    "    lp -= 0.5*((temp - tmu)/tsigma)**2   #Add log prior due to temperature to lp due to logn.\n",
    "\n",
    "    # set prior to zero (log prior to -inf) if T<=0       \n",
    "    if (temp <= 0):\n",
    "        lp = -np.inf    \n",
    "#-------------------------    \n",
    "#Third parameter: Area\n",
    "    #Uniform prior on Area, but with some cutoffs\n",
    "    amin=np.pi*(0.001*1.5e11)**2.\n",
    "    amax=np.pi*(20*1.5e11)**2.\n",
    "    lpa = 0. if amin < area < amax else -np.inf\n",
    "\n",
    "    lp = lp+lpa #Add log prior due to area to lp due to temperature/logn\n",
    "\n",
    "    return lp\n",
    "\n",
    "def loglikelihood(theta, data, sigma, linenum):\n",
    "    \"\"\"                                                                                       \n",
    "    The natural logarithm of the joint likelihood.                                            \n",
    "                                                                                              \n",
    "    Args:                                                                                     \n",
    "        theta (list): a sample containing individual parameter values                        \n",
    "        data (list): the set of data/observations                                             \n",
    "        sigma (float): the standard deviation of the data points                              \n",
    "        x (list): the abscissa values at which the data/model is defined                                       \n",
    "    \"\"\"\n",
    "\n",
    "    # unpack the model parameters from the tuple                                              \n",
    "    logntot, temp, area = theta\n",
    "    # evaluate the model (assumes that the model is defined above)           \n",
    "    md = line_flux_optthick(linenum, logntot, temp, area, d_pc=140.)\n",
    "    \n",
    "    # return the log likelihood  \n",
    "    return -0.5*np.sum(((md - data)/sigma)**2)"
   ]
  },
  {
   "cell_type": "code",
   "execution_count": null,
   "metadata": {},
   "outputs": [],
   "source": []
  },
  {
   "cell_type": "code",
   "execution_count": 38,
   "metadata": {},
   "outputs": [],
   "source": [
    "w0=np.array([4.64124219, 4.64931172, 4.65748592, 4.6741507,  4.68264278, 4.69124215, \n",
    "                 4.69994958, 4.70876567,\n",
    "                 4.71769101, 4.72672666, 4.73587325, 4.7451314,  4.754502,   4.76398572,\n",
    "                 4.77358345, 4.78329589, 4.79312421, 4.80306889, 4.81313091, 4.82331102,\n",
    "                 4.83361045, 4.84402975, 4.85456995, 4.86523233, 4.87601727, 4.88692606,\n",
    "                 4.89795982, 4.90911919, 4.92040555, 4.93181981, 4.9433629,  4.95503602,\n",
    "                 4.96684038, 4.97877697, 4.99084704, 5.00305161, 5.01539174, 5.02786897,\n",
    "                 5.04048441, 5.05323941, 5.06613484, 5.07917236, 5.09235313])\n",
    "\n",
    "#Define data\n",
    "data_dir='/Users/csalyk/Dropbox/LIME/Disk_data/'\n",
    "pfiles=glob.glob(data_dir+'*.p')\n",
    "out=pickle.load(open(pfiles[0],'rb'))\n",
    "\n",
    "linenum_data=[]\n",
    "for myw0 in out['w0']:\n",
    "    w=np.where(np.abs(w0-myw0) == np.min(np.abs(w0-myw0)))\n",
    "    linenum_data.append(w[0][0])\n",
    "linenum_data=np.array(linenum_data)\n",
    "flux_data=np.array(out['flux'])*1e-3  #Conversion of cgs to mks\n",
    "sigma=5.e-18\n",
    "tup_data=out['tup']\n",
    "wn_data=out['wn']\n",
    "gup_data=out['gup']\n",
    "aup_data=out['aup']\n",
    "yrot_data=np.log(flux_data/(wn_data*gup_data*aup_data))"
   ]
  },
  {
   "cell_type": "code",
   "execution_count": 39,
   "metadata": {},
   "outputs": [
    {
     "name": "stderr",
     "output_type": "stream",
     "text": [
      "/Users/csalyk/anaconda/lib/python3.5/site-packages/ipykernel_launcher.py:91: RuntimeWarning: overflow encountered in double_scalars\n"
     ]
    }
   ],
   "source": [
    "#Set up and run model\n",
    "\n",
    "#Define mcmc parameters\n",
    "Nens = 100   # number of ensemble points                                                         \n",
    "\n",
    "#logn\n",
    "lognmin = 18. # lower range of prior                                                        \n",
    "lognmax = 22.  # upper range of prior                                                        \n",
    "\n",
    "lognini = np.random.uniform(lognmin, lognmax, Nens) # initial logn points                                    \n",
    "\n",
    "#temperature\n",
    "tmu = 800.     # mean of the Gaussian prior                                                 \n",
    "tsigma = 200. # standard deviation of the Gaussian prior                                   \n",
    "\n",
    "tini = np.random.normal(tmu, tsigma, Nens) # initial t points                                    \n",
    "\n",
    "#Area\n",
    "amin=np.pi*(0.1*1.5e11)**2.\n",
    "amax=np.pi*(10*1.5e11)**2.\n",
    "                                                      \n",
    "aini = np.random.uniform(amin, amax, Nens) # initial area points                                    \n",
    "\n",
    "inisamples = np.array([lognini, tini, aini]).T # initial samples                                          \n",
    "#100 x 3  (Nens x Nparameters)\n",
    "\n",
    "ndims = inisamples.shape[1] # number of parameters/dimensions                                    \n",
    "\n",
    "Nburnin = 50   # number of burn-in samples                                                      \n",
    "Nsamples = 100  # number of final posterior samples                                              \n",
    "#5000 takes about 1 minute\n",
    "\n",
    "# set additional args for the posterior (the data, the noise std. dev., and the abscissa)        \n",
    "argslist = (flux_data, sigma, linenum_data)\n",
    "\n",
    "# set up the sampler                                                                             \n",
    "sampler = emcee.EnsembleSampler(Nens, ndims, logposterior, args=argslist)\n",
    "\n",
    "# pass the initial samples and total number of samples required                                  \n",
    "sampler.run_mcmc(inisamples, Nsamples+Nburnin);"
   ]
  },
  {
   "cell_type": "code",
   "execution_count": 45,
   "metadata": {},
   "outputs": [
    {
     "name": "stdout",
     "output_type": "stream",
     "text": [
      "Number of posterior samples is 10000\n"
     ]
    },
    {
     "data": {
      "image/png": "[encoded data removed]",
      "text/plain": [
       "<Figure size 547.2x547.2 with 9 Axes>"
      ]
     },
     "metadata": {
      "needs_background": "light"
     },
     "output_type": "display_data"
    }
   ],
   "source": [
    "#Show results of model\n",
    "postsamples = sampler.chain[:, Nburnin:, :].reshape((-1, ndims))\n",
    "\n",
    "print('Number of posterior samples is {}'.format(postsamples.shape[0]))\n",
    "\n",
    "fig = corner.corner(postsamples, labels=[ r\"$\\log(n_\\mathrm{tot})$\",r\"Temperature [K]\",\"Area [m^2]\"])"
   ]
  },
  {
   "cell_type": "code",
   "execution_count": null,
   "metadata": {},
   "outputs": [],
   "source": []
  }
 ],
 "metadata": {
  "kernelspec": {
   "display_name": "Python 3",
   "language": "python",
   "name": "python3"
  },
  "language_info": {
   "codemirror_mode": {
    "name": "ipython",
    "version": 3
   },
   "file_extension": ".py",
   "mimetype": "text/x-python",
   "name": "python",
   "nbconvert_exporter": "python",
   "pygments_lexer": "ipython3",
   "version": "3.5.6"
  }
 },
 "nbformat": 4,
 "nbformat_minor": 2
}
